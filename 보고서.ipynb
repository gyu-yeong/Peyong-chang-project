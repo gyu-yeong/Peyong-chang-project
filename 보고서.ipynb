{
 "cells": [
  {
   "cell_type": "markdown",
   "id": "b0302fc0",
   "metadata": {},
   "source": [
    "### 2. 노령화 지수 "
   ]
  },
  {
   "cell_type": "markdown",
   "id": "ec224b23",
   "metadata": {},
   "source": [
    "#### -사용 데이터: 2022년 시군구/성/연령(5세)별 주민등록연앙인구 (kosis)\n",
    "#### (연앙인구: 출생률과 사망률을 산출할 때 한 해의 중간인 7월1일을 기준으로 하여 산출한 인구)\n",
    "#### -출처: https://kosis.kr/statHtml/statHtml.do?orgId=101&tblId=DT_1B040M5&conn_path=I3\n",
    "#### -노령화지수 = 고령인구(65세 이상) ÷ 유소년인구(~14세)×100\n",
    "#### -노령화 지수 계산을 위해 0~14세 인구를 유소년 인구로, 65세 이상 인구를 고령인구로 병합\n",
    "#### -데이터 기준은 각 시도의 시군구를 기준으로 하였으며 광역시 이하의 시군구는 제거하였음"
   ]
  },
  {
   "cell_type": "code",
   "execution_count": 40,
   "id": "ab421962",
   "metadata": {},
   "outputs": [
    {
     "data": {
      "text/html": [
       "<div>\n",
       "<style scoped>\n",
       "    .dataframe tbody tr th:only-of-type {\n",
       "        vertical-align: middle;\n",
       "    }\n",
       "\n",
       "    .dataframe tbody tr th {\n",
       "        vertical-align: top;\n",
       "    }\n",
       "\n",
       "    .dataframe thead th {\n",
       "        text-align: right;\n",
       "    }\n",
       "</style>\n",
       "<table border=\"1\" class=\"dataframe\">\n",
       "  <thead>\n",
       "    <tr style=\"text-align: right;\">\n",
       "      <th></th>\n",
       "      <th>시도</th>\n",
       "      <th>시군구</th>\n",
       "      <th>노령화지수</th>\n",
       "      <th>유소년인구</th>\n",
       "      <th>노년인구</th>\n",
       "      <th>노령화지수(로그변환)</th>\n",
       "    </tr>\n",
       "  </thead>\n",
       "  <tbody>\n",
       "    <tr>\n",
       "      <th>0</th>\n",
       "      <td>경상북도</td>\n",
       "      <td>군위군</td>\n",
       "      <td>1386.372361</td>\n",
       "      <td>1042.0</td>\n",
       "      <td>14446.0</td>\n",
       "      <td>7.235167</td>\n",
       "    </tr>\n",
       "    <tr>\n",
       "      <th>1</th>\n",
       "      <td>경상북도</td>\n",
       "      <td>의성군</td>\n",
       "      <td>1172.763205</td>\n",
       "      <td>2783.0</td>\n",
       "      <td>32638.0</td>\n",
       "      <td>7.067970</td>\n",
       "    </tr>\n",
       "    <tr>\n",
       "      <th>2</th>\n",
       "      <td>경상남도</td>\n",
       "      <td>합천군</td>\n",
       "      <td>1079.009861</td>\n",
       "      <td>2484.5</td>\n",
       "      <td>26808.0</td>\n",
       "      <td>6.984725</td>\n",
       "    </tr>\n",
       "    <tr>\n",
       "      <th>3</th>\n",
       "      <td>경상북도</td>\n",
       "      <td>청도군</td>\n",
       "      <td>1027.290036</td>\n",
       "      <td>2363.5</td>\n",
       "      <td>24280.0</td>\n",
       "      <td>6.935653</td>\n",
       "    </tr>\n",
       "    <tr>\n",
       "      <th>4</th>\n",
       "      <td>전라남도</td>\n",
       "      <td>고흥군</td>\n",
       "      <td>1015.754373</td>\n",
       "      <td>3973.5</td>\n",
       "      <td>40361.0</td>\n",
       "      <td>6.924371</td>\n",
       "    </tr>\n",
       "  </tbody>\n",
       "</table>\n",
       "</div>"
      ],
      "text/plain": [
       "     시도  시군구        노령화지수   유소년인구     노년인구  노령화지수(로그변환)\n",
       "0  경상북도  군위군  1386.372361  1042.0  14446.0     7.235167\n",
       "1  경상북도  의성군  1172.763205  2783.0  32638.0     7.067970\n",
       "2  경상남도  합천군  1079.009861  2484.5  26808.0     6.984725\n",
       "3  경상북도  청도군  1027.290036  2363.5  24280.0     6.935653\n",
       "4  전라남도  고흥군  1015.754373  3973.5  40361.0     6.924371"
      ]
     },
     "execution_count": 40,
     "metadata": {},
     "output_type": "execute_result"
    }
   ],
   "source": [
    "import pandas as pd\n",
    "import numpy as np\n",
    "\n",
    "df2 = pd.read_excel(\"C:/Users/user/Desktop/평창군데이터/평창군데이터_전처리/주민등록인구수.xlsx\")\n",
    "\n",
    "young_df = df2.iloc[:,2:5].sum(axis=1)\n",
    "old_df = df2.iloc[:,-10:].sum(axis=1)\n",
    "\n",
    "#노령화지수 = 고령인구(65세 이상) ÷ 유소년인구(~14세)×100\n",
    "\n",
    "df2['노령화지수'] = old_df / young_df * 100\n",
    "df2['유소년인구'] = young_df\n",
    "df2['노년인구'] = old_df\n",
    "\n",
    "df2.drop(df2.columns[2:-3], axis=1, inplace=True)\n",
    "df2 = df2.sort_values(by='노령화지수',ascending=False)\n",
    "df2 = df2.reset_index(drop=True)\n",
    "\n",
    "df2['노령화지수(로그변환)'] = np.log1p(df2['노령화지수'])\n",
    "df2.head()"
   ]
  },
  {
   "cell_type": "markdown",
   "id": "274d61a0",
   "metadata": {},
   "source": [
    "#### '광역시', '특별시'가 아닌 시도의 시군구가 'ㅇㅇ구'인 인덱스 찾아 제거"
   ]
  },
  {
   "cell_type": "code",
   "execution_count": 41,
   "id": "81c3e282",
   "metadata": {},
   "outputs": [
    {
     "data": {
      "text/html": [
       "<div>\n",
       "<style scoped>\n",
       "    .dataframe tbody tr th:only-of-type {\n",
       "        vertical-align: middle;\n",
       "    }\n",
       "\n",
       "    .dataframe tbody tr th {\n",
       "        vertical-align: top;\n",
       "    }\n",
       "\n",
       "    .dataframe thead th {\n",
       "        text-align: right;\n",
       "    }\n",
       "</style>\n",
       "<table border=\"1\" class=\"dataframe\">\n",
       "  <thead>\n",
       "    <tr style=\"text-align: right;\">\n",
       "      <th></th>\n",
       "      <th>시도</th>\n",
       "      <th>시군구</th>\n",
       "      <th>노령화지수</th>\n",
       "      <th>유소년인구</th>\n",
       "      <th>노년인구</th>\n",
       "      <th>노령화지수(로그변환)</th>\n",
       "    </tr>\n",
       "  </thead>\n",
       "  <tbody>\n",
       "    <tr>\n",
       "      <th>201</th>\n",
       "      <td>경기도</td>\n",
       "      <td>단원구</td>\n",
       "      <td>144.058102</td>\n",
       "      <td>32081.5</td>\n",
       "      <td>46216.0</td>\n",
       "      <td>4.977134</td>\n",
       "    </tr>\n",
       "  </tbody>\n",
       "</table>\n",
       "</div>"
      ],
      "text/plain": [
       "      시도  시군구       노령화지수    유소년인구     노년인구  노령화지수(로그변환)\n",
       "201  경기도  단원구  144.058102  32081.5  46216.0     4.977134"
      ]
     },
     "execution_count": 41,
     "metadata": {},
     "output_type": "execute_result"
    }
   ],
   "source": [
    "no_df = df2[~df2['시도'].str.contains('광역시')]  #물결 표시는 부정의 역할\n",
    "no_df = no_df[~no_df['시도'].str.contains('특별')]\n",
    "indexes = no_df[no_df['시군구'].str.endswith('구')]\n",
    "indexes"
   ]
  },
  {
   "cell_type": "markdown",
   "id": "fe007ac6",
   "metadata": {},
   "source": [
    "#### 경기도 단원구라는 잘못된 데이터 존재 -> 제거"
   ]
  },
  {
   "cell_type": "code",
   "execution_count": 42,
   "id": "3e6f3d42",
   "metadata": {},
   "outputs": [],
   "source": [
    "df2 = df2[df2['시군구'] != '단원구']"
   ]
  },
  {
   "cell_type": "markdown",
   "id": "1b9f2ee1",
   "metadata": {},
   "source": [
    "#### (1) 기초통계량"
   ]
  },
  {
   "cell_type": "code",
   "execution_count": 43,
   "id": "89870a8e",
   "metadata": {},
   "outputs": [
    {
     "data": {
      "text/html": [
       "<div>\n",
       "<style scoped>\n",
       "    .dataframe tbody tr th:only-of-type {\n",
       "        vertical-align: middle;\n",
       "    }\n",
       "\n",
       "    .dataframe tbody tr th {\n",
       "        vertical-align: top;\n",
       "    }\n",
       "\n",
       "    .dataframe thead th {\n",
       "        text-align: right;\n",
       "    }\n",
       "</style>\n",
       "<table border=\"1\" class=\"dataframe\">\n",
       "  <thead>\n",
       "    <tr style=\"text-align: right;\">\n",
       "      <th></th>\n",
       "      <th>노령화지수</th>\n",
       "      <th>유소년인구</th>\n",
       "      <th>노년인구</th>\n",
       "      <th>노령화지수(로그변환)</th>\n",
       "    </tr>\n",
       "  </thead>\n",
       "  <tbody>\n",
       "    <tr>\n",
       "      <th>count</th>\n",
       "      <td>229.0</td>\n",
       "      <td>229.0</td>\n",
       "      <td>229.0</td>\n",
       "      <td>229.0</td>\n",
       "    </tr>\n",
       "    <tr>\n",
       "      <th>mean</th>\n",
       "      <td>379.0</td>\n",
       "      <td>26211.0</td>\n",
       "      <td>52855.0</td>\n",
       "      <td>6.0</td>\n",
       "    </tr>\n",
       "    <tr>\n",
       "      <th>std</th>\n",
       "      <td>258.0</td>\n",
       "      <td>29312.0</td>\n",
       "      <td>39408.0</td>\n",
       "      <td>1.0</td>\n",
       "    </tr>\n",
       "    <tr>\n",
       "      <th>min</th>\n",
       "      <td>71.0</td>\n",
       "      <td>574.0</td>\n",
       "      <td>3252.0</td>\n",
       "      <td>4.0</td>\n",
       "    </tr>\n",
       "    <tr>\n",
       "      <th>25%</th>\n",
       "      <td>180.0</td>\n",
       "      <td>4485.0</td>\n",
       "      <td>23886.0</td>\n",
       "      <td>5.0</td>\n",
       "    </tr>\n",
       "    <tr>\n",
       "      <th>50%</th>\n",
       "      <td>283.0</td>\n",
       "      <td>15204.0</td>\n",
       "      <td>42088.0</td>\n",
       "      <td>6.0</td>\n",
       "    </tr>\n",
       "    <tr>\n",
       "      <th>75%</th>\n",
       "      <td>536.0</td>\n",
       "      <td>36130.0</td>\n",
       "      <td>73087.0</td>\n",
       "      <td>6.0</td>\n",
       "    </tr>\n",
       "    <tr>\n",
       "      <th>max</th>\n",
       "      <td>1386.0</td>\n",
       "      <td>156626.0</td>\n",
       "      <td>217703.0</td>\n",
       "      <td>7.0</td>\n",
       "    </tr>\n",
       "  </tbody>\n",
       "</table>\n",
       "</div>"
      ],
      "text/plain": [
       "        노령화지수     유소년인구      노년인구  노령화지수(로그변환)\n",
       "count   229.0     229.0     229.0        229.0\n",
       "mean    379.0   26211.0   52855.0          6.0\n",
       "std     258.0   29312.0   39408.0          1.0\n",
       "min      71.0     574.0    3252.0          4.0\n",
       "25%     180.0    4485.0   23886.0          5.0\n",
       "50%     283.0   15204.0   42088.0          6.0\n",
       "75%     536.0   36130.0   73087.0          6.0\n",
       "max    1386.0  156626.0  217703.0          7.0"
      ]
     },
     "execution_count": 43,
     "metadata": {},
     "output_type": "execute_result"
    }
   ],
   "source": [
    "round(df2.describe())"
   ]
  },
  {
   "cell_type": "code",
   "execution_count": 45,
   "id": "8b8c1948",
   "metadata": {},
   "outputs": [
    {
     "name": "stderr",
     "output_type": "stream",
     "text": [
      "C:\\Users\\user\\anaconda3\\lib\\site-packages\\scipy\\__init__.py:138: UserWarning: A NumPy version >=1.16.5 and <1.23.0 is required for this version of SciPy (detected version 1.24.1)\n",
      "  warnings.warn(f\"A NumPy version >={np_minversion} and <{np_maxversion} is required for this version of \"\n"
     ]
    }
   ],
   "source": [
    "#한글 깨짐 방지 코드\n",
    "from matplotlib import rc, style, font_manager\n",
    "font_name = font_manager.FontProperties(fname=\"C:/windows/Fonts/malgun.ttf\").get_name()\n",
    "rc('font', family=font_name)\n",
    "style.use('ggplot')\n",
    "\n",
    "import matplotlib.pyplot as plt\n",
    "import seaborn as sns\n",
    "import warnings\n",
    "warnings.filterwarnings('ignore')"
   ]
  },
  {
   "cell_type": "code",
   "execution_count": 51,
   "id": "3101f7e1",
   "metadata": {},
   "outputs": [
    {
     "data": {
      "image/png": "[encoded data removed]",
      "text/plain": [
       "<Figure size 432x288 with 1 Axes>"
      ]
     },
     "metadata": {
      "needs_background": "light"
     },
     "output_type": "display_data"
    }
   ],
   "source": [
    "fig.set_facecolor('white') ## 캔버스 배경색 설정\n",
    " \n",
    "plt.boxplot(df2['노령화지수'].describe()) ## 상자 수염 그림 출력\n",
    " \n",
    "fontsize=13 ## 폰트 사이즈\n",
    "plt.xticks([1],['시군구'], fontsize=fontsize) ## x축 눈금 라벨\n",
    "plt.title('Box Plot',fontsize=fontsize) ## 타이틀\n",
    "plt.show()"
   ]
  },
  {
   "cell_type": "markdown",
   "id": "c696269e",
   "metadata": {},
   "source": [
    "#### (2) 평창군의 위치"
   ]
  },
  {
   "cell_type": "code",
   "execution_count": 44,
   "id": "5984bb99",
   "metadata": {},
   "outputs": [
    {
     "data": {
      "text/html": [
       "<div>\n",
       "<style scoped>\n",
       "    .dataframe tbody tr th:only-of-type {\n",
       "        vertical-align: middle;\n",
       "    }\n",
       "\n",
       "    .dataframe tbody tr th {\n",
       "        vertical-align: top;\n",
       "    }\n",
       "\n",
       "    .dataframe thead th {\n",
       "        text-align: right;\n",
       "    }\n",
       "</style>\n",
       "<table border=\"1\" class=\"dataframe\">\n",
       "  <thead>\n",
       "    <tr style=\"text-align: right;\">\n",
       "      <th></th>\n",
       "      <th>시도</th>\n",
       "      <th>시군구</th>\n",
       "      <th>노령화지수</th>\n",
       "      <th>유소년인구</th>\n",
       "      <th>노년인구</th>\n",
       "      <th>노령화지수(로그변환)</th>\n",
       "    </tr>\n",
       "  </thead>\n",
       "  <tbody>\n",
       "    <tr>\n",
       "      <th>50</th>\n",
       "      <td>강원도</td>\n",
       "      <td>평창군</td>\n",
       "      <td>589.521368</td>\n",
       "      <td>2925.0</td>\n",
       "      <td>17243.5</td>\n",
       "      <td>6.381006</td>\n",
       "    </tr>\n",
       "  </tbody>\n",
       "</table>\n",
       "</div>"
      ],
      "text/plain": [
       "     시도  시군구       노령화지수   유소년인구     노년인구  노령화지수(로그변환)\n",
       "50  강원도  평창군  589.521368  2925.0  17243.5     6.381006"
      ]
     },
     "execution_count": 44,
     "metadata": {},
     "output_type": "execute_result"
    }
   ],
   "source": [
    "df2[df2['시군구'] == '평창군']"
   ]
  },
  {
   "cell_type": "code",
   "execution_count": 50,
   "id": "cd7008d3",
   "metadata": {},
   "outputs": [
    {
     "data": {
      "image/png": "[encoded data removed]",
      "text/plain": [
       "<Figure size 2520x720 with 1 Axes>"
      ]
     },
     "metadata": {
      "needs_background": "light"
     },
     "output_type": "display_data"
    }
   ],
   "source": [
    "y = df2.iloc[:, 2].values.copy()\n",
    "x = df2.iloc[:, 1].values.copy()\n",
    "\n",
    "fig, ax = plt.subplots(figsize=(35,10))\n",
    "ax.bar(x,y,fc='darkgray')\n",
    "plt.xticks(rotation=-90)\n",
    "plt.ylabel('노령화지수')\n",
    "\n",
    "bars = ax.patches\n",
    "bars[50].set_facecolor(\"yellow\")\n",
    "bars[50].set_edgecolor(\"k\")"
   ]
  },
  {
   "cell_type": "code",
   "execution_count": null,
   "id": "f50edde7",
   "metadata": {},
   "outputs": [],
   "source": []
  }
 ],
 "metadata": {
  "kernelspec": {
   "display_name": "Python 3",
   "language": "python",
   "name": "python3"
  },
  "language_info": {
   "codemirror_mode": {
    "name": "ipython",
    "version": 3
   },
   "file_extension": ".py",
   "mimetype": "text/x-python",
   "name": "python",
   "nbconvert_exporter": "python",
   "pygments_lexer": "ipython3",
   "version": "3.8.8"
  }
 },
 "nbformat": 4,
 "nbformat_minor": 5
}
