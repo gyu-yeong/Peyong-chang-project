{
 "cells": [
  {
   "cell_type": "markdown",
   "id": "3a3eb80d",
   "metadata": {},
   "source": [
    "#### 데이터 출처: https://kosis.kr/statHtml/statHtml.do?orgId=101&tblId=DT_1B040M5&conn_path=I3\n",
    "#### 2022년 10월  행정구역(읍면동)별/5세별 주민등록인구"
   ]
  },
  {
   "cell_type": "code",
   "execution_count": 32,
   "id": "2377afec",
   "metadata": {},
   "outputs": [
    {
     "data": {
      "text/html": [
       "<div>\n",
       "<style scoped>\n",
       "    .dataframe tbody tr th:only-of-type {\n",
       "        vertical-align: middle;\n",
       "    }\n",
       "\n",
       "    .dataframe tbody tr th {\n",
       "        vertical-align: top;\n",
       "    }\n",
       "\n",
       "    .dataframe thead th {\n",
       "        text-align: right;\n",
       "    }\n",
       "</style>\n",
       "<table border=\"1\" class=\"dataframe\">\n",
       "  <thead>\n",
       "    <tr style=\"text-align: right;\">\n",
       "      <th></th>\n",
       "      <th>시도</th>\n",
       "      <th>시군구</th>\n",
       "      <th>0 - 4세</th>\n",
       "      <th>5 - 9세</th>\n",
       "      <th>10 - 14세</th>\n",
       "      <th>15 - 19세</th>\n",
       "      <th>20 - 24세</th>\n",
       "      <th>25 - 29세</th>\n",
       "      <th>30 - 34세</th>\n",
       "      <th>35 - 39세</th>\n",
       "      <th>...</th>\n",
       "      <th>65 - 69세</th>\n",
       "      <th>70 - 74세</th>\n",
       "      <th>75 - 79세</th>\n",
       "      <th>80세 이상</th>\n",
       "      <th>80 - 84세</th>\n",
       "      <th>85세 이상</th>\n",
       "      <th>85 - 89세</th>\n",
       "      <th>90 - 94세</th>\n",
       "      <th>95 - 99세</th>\n",
       "      <th>100세 이상</th>\n",
       "    </tr>\n",
       "  </thead>\n",
       "  <tbody>\n",
       "    <tr>\n",
       "      <th>0</th>\n",
       "      <td>서울특별시</td>\n",
       "      <td>종로구</td>\n",
       "      <td>2616.0</td>\n",
       "      <td>4066.5</td>\n",
       "      <td>4805.0</td>\n",
       "      <td>5362.5</td>\n",
       "      <td>9698.5</td>\n",
       "      <td>12681.0</td>\n",
       "      <td>10329.0</td>\n",
       "      <td>8862.0</td>\n",
       "      <td>...</td>\n",
       "      <td>8616.0</td>\n",
       "      <td>6068.0</td>\n",
       "      <td>5186.0</td>\n",
       "      <td>7076.5</td>\n",
       "      <td>4131.5</td>\n",
       "      <td>2945.0</td>\n",
       "      <td>2034.5</td>\n",
       "      <td>704.0</td>\n",
       "      <td>180.5</td>\n",
       "      <td>26.0</td>\n",
       "    </tr>\n",
       "    <tr>\n",
       "      <th>1</th>\n",
       "      <td>서울특별시</td>\n",
       "      <td>중구</td>\n",
       "      <td>2858.0</td>\n",
       "      <td>3261.0</td>\n",
       "      <td>2970.5</td>\n",
       "      <td>3365.5</td>\n",
       "      <td>7107.5</td>\n",
       "      <td>10746.0</td>\n",
       "      <td>10467.0</td>\n",
       "      <td>9207.0</td>\n",
       "      <td>...</td>\n",
       "      <td>7907.5</td>\n",
       "      <td>5550.5</td>\n",
       "      <td>4475.5</td>\n",
       "      <td>5847.5</td>\n",
       "      <td>3368.5</td>\n",
       "      <td>2479.0</td>\n",
       "      <td>1680.0</td>\n",
       "      <td>637.5</td>\n",
       "      <td>139.5</td>\n",
       "      <td>22.0</td>\n",
       "    </tr>\n",
       "    <tr>\n",
       "      <th>2</th>\n",
       "      <td>서울특별시</td>\n",
       "      <td>용산구</td>\n",
       "      <td>5647.0</td>\n",
       "      <td>6626.0</td>\n",
       "      <td>6748.5</td>\n",
       "      <td>7556.5</td>\n",
       "      <td>12809.0</td>\n",
       "      <td>19209.0</td>\n",
       "      <td>19985.0</td>\n",
       "      <td>17428.5</td>\n",
       "      <td>...</td>\n",
       "      <td>12230.5</td>\n",
       "      <td>8397.5</td>\n",
       "      <td>6794.0</td>\n",
       "      <td>9674.5</td>\n",
       "      <td>5483.5</td>\n",
       "      <td>4191.0</td>\n",
       "      <td>2896.5</td>\n",
       "      <td>1040.0</td>\n",
       "      <td>217.5</td>\n",
       "      <td>37.0</td>\n",
       "    </tr>\n",
       "    <tr>\n",
       "      <th>3</th>\n",
       "      <td>서울특별시</td>\n",
       "      <td>성동구</td>\n",
       "      <td>8906.5</td>\n",
       "      <td>9809.5</td>\n",
       "      <td>8803.5</td>\n",
       "      <td>9819.0</td>\n",
       "      <td>18107.0</td>\n",
       "      <td>24518.0</td>\n",
       "      <td>23177.0</td>\n",
       "      <td>22772.5</td>\n",
       "      <td>...</td>\n",
       "      <td>15954.0</td>\n",
       "      <td>11017.5</td>\n",
       "      <td>8827.0</td>\n",
       "      <td>10450.0</td>\n",
       "      <td>6300.5</td>\n",
       "      <td>4149.5</td>\n",
       "      <td>2983.5</td>\n",
       "      <td>941.0</td>\n",
       "      <td>187.5</td>\n",
       "      <td>37.5</td>\n",
       "    </tr>\n",
       "    <tr>\n",
       "      <th>4</th>\n",
       "      <td>서울특별시</td>\n",
       "      <td>광진구</td>\n",
       "      <td>7048.5</td>\n",
       "      <td>10032.0</td>\n",
       "      <td>11675.5</td>\n",
       "      <td>12883.5</td>\n",
       "      <td>24394.0</td>\n",
       "      <td>36339.0</td>\n",
       "      <td>29944.5</td>\n",
       "      <td>24433.0</td>\n",
       "      <td>...</td>\n",
       "      <td>18808.5</td>\n",
       "      <td>12626.5</td>\n",
       "      <td>9515.0</td>\n",
       "      <td>11107.5</td>\n",
       "      <td>6751.5</td>\n",
       "      <td>4356.0</td>\n",
       "      <td>3077.0</td>\n",
       "      <td>1009.0</td>\n",
       "      <td>230.5</td>\n",
       "      <td>39.5</td>\n",
       "    </tr>\n",
       "  </tbody>\n",
       "</table>\n",
       "<p>5 rows × 25 columns</p>\n",
       "</div>"
      ],
      "text/plain": [
       "      시도  시군구  0 - 4세   5 - 9세  10 - 14세  15 - 19세  20 - 24세  25 - 29세  \\\n",
       "0  서울특별시  종로구  2616.0   4066.5    4805.0    5362.5    9698.5   12681.0   \n",
       "1  서울특별시   중구  2858.0   3261.0    2970.5    3365.5    7107.5   10746.0   \n",
       "2  서울특별시  용산구  5647.0   6626.0    6748.5    7556.5   12809.0   19209.0   \n",
       "3  서울특별시  성동구  8906.5   9809.5    8803.5    9819.0   18107.0   24518.0   \n",
       "4  서울특별시  광진구  7048.5  10032.0   11675.5   12883.5   24394.0   36339.0   \n",
       "\n",
       "   30 - 34세  35 - 39세  ...  65 - 69세  70 - 74세  75 - 79세   80세 이상  80 - 84세  \\\n",
       "0   10329.0    8862.0  ...    8616.0    6068.0    5186.0   7076.5    4131.5   \n",
       "1   10467.0    9207.0  ...    7907.5    5550.5    4475.5   5847.5    3368.5   \n",
       "2   19985.0   17428.5  ...   12230.5    8397.5    6794.0   9674.5    5483.5   \n",
       "3   23177.0   22772.5  ...   15954.0   11017.5    8827.0  10450.0    6300.5   \n",
       "4   29944.5   24433.0  ...   18808.5   12626.5    9515.0  11107.5    6751.5   \n",
       "\n",
       "   85세 이상  85 - 89세  90 - 94세  95 - 99세  100세 이상  \n",
       "0  2945.0    2034.5     704.0     180.5     26.0  \n",
       "1  2479.0    1680.0     637.5     139.5     22.0  \n",
       "2  4191.0    2896.5    1040.0     217.5     37.0  \n",
       "3  4149.5    2983.5     941.0     187.5     37.5  \n",
       "4  4356.0    3077.0    1009.0     230.5     39.5  \n",
       "\n",
       "[5 rows x 25 columns]"
      ]
     },
     "execution_count": 32,
     "metadata": {},
     "output_type": "execute_result"
    }
   ],
   "source": [
    "import pandas as pd\n",
    "\n",
    "df = pd.read_excel(\"C:/Users/user/Desktop/평창군데이터/평창군데이터_전처리/주민등록인구수.xlsx\")\n",
    "df.head()"
   ]
  },
  {
   "cell_type": "code",
   "execution_count": 33,
   "id": "83ef54bf",
   "metadata": {},
   "outputs": [
    {
     "data": {
      "text/plain": [
       "(230, 25)"
      ]
     },
     "execution_count": 33,
     "metadata": {},
     "output_type": "execute_result"
    }
   ],
   "source": [
    "df.shape"
   ]
  },
  {
   "cell_type": "code",
   "execution_count": 34,
   "id": "7658a163",
   "metadata": {},
   "outputs": [
    {
     "data": {
      "text/plain": [
       "Index(['시도', '시군구', '0 - 4세', '5 - 9세', '10 - 14세', '15 - 19세', '20 - 24세',\n",
       "       '25 - 29세', '30 - 34세', '35 - 39세', '40 - 44세', '45 - 49세', '50 - 54세',\n",
       "       '55 - 59세', '60 - 64세', '65 - 69세', '70 - 74세', '75 - 79세', '80세 이상',\n",
       "       '80 - 84세', '85세 이상', '85 - 89세', '90 - 94세', '95 - 99세', '100세 이상'],\n",
       "      dtype='object')"
      ]
     },
     "execution_count": 34,
     "metadata": {},
     "output_type": "execute_result"
    }
   ],
   "source": [
    "df.columns"
   ]
  },
  {
   "cell_type": "code",
   "execution_count": 35,
   "id": "74d6015b",
   "metadata": {},
   "outputs": [],
   "source": [
    "young_df = df.iloc[:,2:5].sum(axis=1)\n",
    "old_df = df.iloc[:,-10:].sum(axis=1)"
   ]
  },
  {
   "cell_type": "code",
   "execution_count": 36,
   "id": "07a3778d",
   "metadata": {},
   "outputs": [],
   "source": [
    "#노령화지수 = 고령인구(65세 이상) ÷ 유소년인구(~14세)×100\n",
    "\n",
    "df['노령화지수'] = old_df / young_df * 100"
   ]
  },
  {
   "cell_type": "code",
   "execution_count": 37,
   "id": "ba460aa3",
   "metadata": {},
   "outputs": [],
   "source": [
    "df['유소년인구'] = young_df\n",
    "df['노년인구'] = old_df"
   ]
  },
  {
   "cell_type": "code",
   "execution_count": 38,
   "id": "0cb1850d",
   "metadata": {},
   "outputs": [],
   "source": [
    "df.drop(df.columns[2:-3], axis=1, inplace=True)"
   ]
  },
  {
   "cell_type": "code",
   "execution_count": 39,
   "id": "5ccc0538",
   "metadata": {},
   "outputs": [],
   "source": [
    "df = df.sort_values(by='노령화지수',ascending=False)\n",
    "df = df.reset_index(drop=True)"
   ]
  },
  {
   "cell_type": "code",
   "execution_count": 40,
   "id": "bc45180c",
   "metadata": {},
   "outputs": [
    {
     "data": {
      "text/html": [
       "<div>\n",
       "<style scoped>\n",
       "    .dataframe tbody tr th:only-of-type {\n",
       "        vertical-align: middle;\n",
       "    }\n",
       "\n",
       "    .dataframe tbody tr th {\n",
       "        vertical-align: top;\n",
       "    }\n",
       "\n",
       "    .dataframe thead th {\n",
       "        text-align: right;\n",
       "    }\n",
       "</style>\n",
       "<table border=\"1\" class=\"dataframe\">\n",
       "  <thead>\n",
       "    <tr style=\"text-align: right;\">\n",
       "      <th></th>\n",
       "      <th>시도</th>\n",
       "      <th>시군구</th>\n",
       "      <th>노령화지수</th>\n",
       "      <th>유소년인구</th>\n",
       "      <th>노년인구</th>\n",
       "    </tr>\n",
       "  </thead>\n",
       "  <tbody>\n",
       "    <tr>\n",
       "      <th>0</th>\n",
       "      <td>경상북도</td>\n",
       "      <td>군위군</td>\n",
       "      <td>1386.372361</td>\n",
       "      <td>1042.0</td>\n",
       "      <td>14446.0</td>\n",
       "    </tr>\n",
       "    <tr>\n",
       "      <th>1</th>\n",
       "      <td>경상북도</td>\n",
       "      <td>의성군</td>\n",
       "      <td>1172.763205</td>\n",
       "      <td>2783.0</td>\n",
       "      <td>32638.0</td>\n",
       "    </tr>\n",
       "    <tr>\n",
       "      <th>2</th>\n",
       "      <td>경상남도</td>\n",
       "      <td>합천군</td>\n",
       "      <td>1079.009861</td>\n",
       "      <td>2484.5</td>\n",
       "      <td>26808.0</td>\n",
       "    </tr>\n",
       "    <tr>\n",
       "      <th>3</th>\n",
       "      <td>경상북도</td>\n",
       "      <td>청도군</td>\n",
       "      <td>1027.290036</td>\n",
       "      <td>2363.5</td>\n",
       "      <td>24280.0</td>\n",
       "    </tr>\n",
       "    <tr>\n",
       "      <th>4</th>\n",
       "      <td>전라남도</td>\n",
       "      <td>고흥군</td>\n",
       "      <td>1015.754373</td>\n",
       "      <td>3973.5</td>\n",
       "      <td>40361.0</td>\n",
       "    </tr>\n",
       "    <tr>\n",
       "      <th>...</th>\n",
       "      <td>...</td>\n",
       "      <td>...</td>\n",
       "      <td>...</td>\n",
       "      <td>...</td>\n",
       "      <td>...</td>\n",
       "    </tr>\n",
       "    <tr>\n",
       "      <th>225</th>\n",
       "      <td>광주광역시</td>\n",
       "      <td>광산구</td>\n",
       "      <td>88.923139</td>\n",
       "      <td>61475.0</td>\n",
       "      <td>54665.5</td>\n",
       "    </tr>\n",
       "    <tr>\n",
       "      <th>226</th>\n",
       "      <td>부산광역시</td>\n",
       "      <td>강서구</td>\n",
       "      <td>83.804014</td>\n",
       "      <td>27655.0</td>\n",
       "      <td>23176.0</td>\n",
       "    </tr>\n",
       "    <tr>\n",
       "      <th>227</th>\n",
       "      <td>경기도</td>\n",
       "      <td>화성시</td>\n",
       "      <td>71.832991</td>\n",
       "      <td>156626.5</td>\n",
       "      <td>112509.5</td>\n",
       "    </tr>\n",
       "    <tr>\n",
       "      <th>228</th>\n",
       "      <td>울산광역시</td>\n",
       "      <td>북구</td>\n",
       "      <td>71.706507</td>\n",
       "      <td>36416.5</td>\n",
       "      <td>26113.0</td>\n",
       "    </tr>\n",
       "    <tr>\n",
       "      <th>229</th>\n",
       "      <td>세종특별자치시</td>\n",
       "      <td>세종시</td>\n",
       "      <td>71.215254</td>\n",
       "      <td>73264.5</td>\n",
       "      <td>52175.5</td>\n",
       "    </tr>\n",
       "  </tbody>\n",
       "</table>\n",
       "<p>230 rows × 5 columns</p>\n",
       "</div>"
      ],
      "text/plain": [
       "          시도  시군구        노령화지수     유소년인구      노년인구\n",
       "0       경상북도  군위군  1386.372361    1042.0   14446.0\n",
       "1       경상북도  의성군  1172.763205    2783.0   32638.0\n",
       "2       경상남도  합천군  1079.009861    2484.5   26808.0\n",
       "3       경상북도  청도군  1027.290036    2363.5   24280.0\n",
       "4       전라남도  고흥군  1015.754373    3973.5   40361.0\n",
       "..       ...  ...          ...       ...       ...\n",
       "225    광주광역시  광산구    88.923139   61475.0   54665.5\n",
       "226    부산광역시  강서구    83.804014   27655.0   23176.0\n",
       "227      경기도  화성시    71.832991  156626.5  112509.5\n",
       "228    울산광역시   북구    71.706507   36416.5   26113.0\n",
       "229  세종특별자치시  세종시    71.215254   73264.5   52175.5\n",
       "\n",
       "[230 rows x 5 columns]"
      ]
     },
     "execution_count": 40,
     "metadata": {},
     "output_type": "execute_result"
    }
   ],
   "source": [
    "df"
   ]
  },
  {
   "cell_type": "code",
   "execution_count": 51,
   "id": "ee0b6c9c",
   "metadata": {},
   "outputs": [
    {
     "data": {
      "text/html": [
       "<div>\n",
       "<style scoped>\n",
       "    .dataframe tbody tr th:only-of-type {\n",
       "        vertical-align: middle;\n",
       "    }\n",
       "\n",
       "    .dataframe tbody tr th {\n",
       "        vertical-align: top;\n",
       "    }\n",
       "\n",
       "    .dataframe thead th {\n",
       "        text-align: right;\n",
       "    }\n",
       "</style>\n",
       "<table border=\"1\" class=\"dataframe\">\n",
       "  <thead>\n",
       "    <tr style=\"text-align: right;\">\n",
       "      <th></th>\n",
       "      <th>시도</th>\n",
       "      <th>시군구</th>\n",
       "      <th>노령화지수</th>\n",
       "      <th>유소년인구</th>\n",
       "      <th>노년인구</th>\n",
       "    </tr>\n",
       "  </thead>\n",
       "  <tbody>\n",
       "    <tr>\n",
       "      <th>0</th>\n",
       "      <td>경상북도</td>\n",
       "      <td>군위군</td>\n",
       "      <td>1386.372361</td>\n",
       "      <td>1042.0</td>\n",
       "      <td>14446.0</td>\n",
       "    </tr>\n",
       "    <tr>\n",
       "      <th>1</th>\n",
       "      <td>경상북도</td>\n",
       "      <td>의성군</td>\n",
       "      <td>1172.763205</td>\n",
       "      <td>2783.0</td>\n",
       "      <td>32638.0</td>\n",
       "    </tr>\n",
       "    <tr>\n",
       "      <th>2</th>\n",
       "      <td>경상남도</td>\n",
       "      <td>합천군</td>\n",
       "      <td>1079.009861</td>\n",
       "      <td>2484.5</td>\n",
       "      <td>26808.0</td>\n",
       "    </tr>\n",
       "    <tr>\n",
       "      <th>3</th>\n",
       "      <td>경상북도</td>\n",
       "      <td>청도군</td>\n",
       "      <td>1027.290036</td>\n",
       "      <td>2363.5</td>\n",
       "      <td>24280.0</td>\n",
       "    </tr>\n",
       "    <tr>\n",
       "      <th>4</th>\n",
       "      <td>전라남도</td>\n",
       "      <td>고흥군</td>\n",
       "      <td>1015.754373</td>\n",
       "      <td>3973.5</td>\n",
       "      <td>40361.0</td>\n",
       "    </tr>\n",
       "    <tr>\n",
       "      <th>...</th>\n",
       "      <td>...</td>\n",
       "      <td>...</td>\n",
       "      <td>...</td>\n",
       "      <td>...</td>\n",
       "      <td>...</td>\n",
       "    </tr>\n",
       "    <tr>\n",
       "      <th>219</th>\n",
       "      <td>경상남도</td>\n",
       "      <td>거제시</td>\n",
       "      <td>102.805176</td>\n",
       "      <td>38019.0</td>\n",
       "      <td>39085.5</td>\n",
       "    </tr>\n",
       "    <tr>\n",
       "      <th>220</th>\n",
       "      <td>경상북도</td>\n",
       "      <td>구미시</td>\n",
       "      <td>97.229672</td>\n",
       "      <td>59848.5</td>\n",
       "      <td>58190.5</td>\n",
       "    </tr>\n",
       "    <tr>\n",
       "      <th>223</th>\n",
       "      <td>경기도</td>\n",
       "      <td>시흥시</td>\n",
       "      <td>95.045175</td>\n",
       "      <td>72606.0</td>\n",
       "      <td>69008.5</td>\n",
       "    </tr>\n",
       "    <tr>\n",
       "      <th>224</th>\n",
       "      <td>경기도</td>\n",
       "      <td>오산시</td>\n",
       "      <td>92.461266</td>\n",
       "      <td>34110.5</td>\n",
       "      <td>31539.0</td>\n",
       "    </tr>\n",
       "    <tr>\n",
       "      <th>227</th>\n",
       "      <td>경기도</td>\n",
       "      <td>화성시</td>\n",
       "      <td>71.832991</td>\n",
       "      <td>156626.5</td>\n",
       "      <td>112509.5</td>\n",
       "    </tr>\n",
       "  </tbody>\n",
       "</table>\n",
       "<p>153 rows × 5 columns</p>\n",
       "</div>"
      ],
      "text/plain": [
       "       시도  시군구        노령화지수     유소년인구      노년인구\n",
       "0    경상북도  군위군  1386.372361    1042.0   14446.0\n",
       "1    경상북도  의성군  1172.763205    2783.0   32638.0\n",
       "2    경상남도  합천군  1079.009861    2484.5   26808.0\n",
       "3    경상북도  청도군  1027.290036    2363.5   24280.0\n",
       "4    전라남도  고흥군  1015.754373    3973.5   40361.0\n",
       "..    ...  ...          ...       ...       ...\n",
       "219  경상남도  거제시   102.805176   38019.0   39085.5\n",
       "220  경상북도  구미시    97.229672   59848.5   58190.5\n",
       "223   경기도  시흥시    95.045175   72606.0   69008.5\n",
       "224   경기도  오산시    92.461266   34110.5   31539.0\n",
       "227   경기도  화성시    71.832991  156626.5  112509.5\n",
       "\n",
       "[153 rows x 5 columns]"
      ]
     },
     "execution_count": 51,
     "metadata": {},
     "output_type": "execute_result"
    }
   ],
   "source": [
    "# 시군구의 광역시, 특별시가 아닌 지역의 구가 들어갔는지 확인 및 제거 \n",
    "\n",
    "no_df = df[~df['시도'].str.contains('광역시')]  #물결 표시는 부정의 역할\n",
    "no_df = no_df[~no_df['시도'].str.contains('특별')]\n",
    "no_df"
   ]
  },
  {
   "cell_type": "code",
   "execution_count": 52,
   "id": "486e3761",
   "metadata": {},
   "outputs": [
    {
     "data": {
      "text/html": [
       "<div>\n",
       "<style scoped>\n",
       "    .dataframe tbody tr th:only-of-type {\n",
       "        vertical-align: middle;\n",
       "    }\n",
       "\n",
       "    .dataframe tbody tr th {\n",
       "        vertical-align: top;\n",
       "    }\n",
       "\n",
       "    .dataframe thead th {\n",
       "        text-align: right;\n",
       "    }\n",
       "</style>\n",
       "<table border=\"1\" class=\"dataframe\">\n",
       "  <thead>\n",
       "    <tr style=\"text-align: right;\">\n",
       "      <th></th>\n",
       "      <th>시도</th>\n",
       "      <th>시군구</th>\n",
       "      <th>노령화지수</th>\n",
       "      <th>유소년인구</th>\n",
       "      <th>노년인구</th>\n",
       "    </tr>\n",
       "  </thead>\n",
       "  <tbody>\n",
       "    <tr>\n",
       "      <th>201</th>\n",
       "      <td>경기도</td>\n",
       "      <td>단원구</td>\n",
       "      <td>144.058102</td>\n",
       "      <td>32081.5</td>\n",
       "      <td>46216.0</td>\n",
       "    </tr>\n",
       "  </tbody>\n",
       "</table>\n",
       "</div>"
      ],
      "text/plain": [
       "      시도  시군구       노령화지수    유소년인구     노년인구\n",
       "201  경기도  단원구  144.058102  32081.5  46216.0"
      ]
     },
     "execution_count": 52,
     "metadata": {},
     "output_type": "execute_result"
    }
   ],
   "source": [
    "indexes = no_df[no_df['시군구'].str.endswith('구')]\n",
    "indexes"
   ]
  },
  {
   "cell_type": "code",
   "execution_count": 53,
   "id": "e5388f3b",
   "metadata": {},
   "outputs": [
    {
     "data": {
      "text/html": [
       "<div>\n",
       "<style scoped>\n",
       "    .dataframe tbody tr th:only-of-type {\n",
       "        vertical-align: middle;\n",
       "    }\n",
       "\n",
       "    .dataframe tbody tr th {\n",
       "        vertical-align: top;\n",
       "    }\n",
       "\n",
       "    .dataframe thead th {\n",
       "        text-align: right;\n",
       "    }\n",
       "</style>\n",
       "<table border=\"1\" class=\"dataframe\">\n",
       "  <thead>\n",
       "    <tr style=\"text-align: right;\">\n",
       "      <th></th>\n",
       "      <th>시도</th>\n",
       "      <th>시군구</th>\n",
       "      <th>노령화지수</th>\n",
       "      <th>유소년인구</th>\n",
       "      <th>노년인구</th>\n",
       "    </tr>\n",
       "  </thead>\n",
       "  <tbody>\n",
       "    <tr>\n",
       "      <th>0</th>\n",
       "      <td>경상북도</td>\n",
       "      <td>군위군</td>\n",
       "      <td>1386.372361</td>\n",
       "      <td>1042.0</td>\n",
       "      <td>14446.0</td>\n",
       "    </tr>\n",
       "    <tr>\n",
       "      <th>1</th>\n",
       "      <td>경상북도</td>\n",
       "      <td>의성군</td>\n",
       "      <td>1172.763205</td>\n",
       "      <td>2783.0</td>\n",
       "      <td>32638.0</td>\n",
       "    </tr>\n",
       "    <tr>\n",
       "      <th>2</th>\n",
       "      <td>경상남도</td>\n",
       "      <td>합천군</td>\n",
       "      <td>1079.009861</td>\n",
       "      <td>2484.5</td>\n",
       "      <td>26808.0</td>\n",
       "    </tr>\n",
       "    <tr>\n",
       "      <th>3</th>\n",
       "      <td>경상북도</td>\n",
       "      <td>청도군</td>\n",
       "      <td>1027.290036</td>\n",
       "      <td>2363.5</td>\n",
       "      <td>24280.0</td>\n",
       "    </tr>\n",
       "    <tr>\n",
       "      <th>4</th>\n",
       "      <td>전라남도</td>\n",
       "      <td>고흥군</td>\n",
       "      <td>1015.754373</td>\n",
       "      <td>3973.5</td>\n",
       "      <td>40361.0</td>\n",
       "    </tr>\n",
       "    <tr>\n",
       "      <th>...</th>\n",
       "      <td>...</td>\n",
       "      <td>...</td>\n",
       "      <td>...</td>\n",
       "      <td>...</td>\n",
       "      <td>...</td>\n",
       "    </tr>\n",
       "    <tr>\n",
       "      <th>225</th>\n",
       "      <td>광주광역시</td>\n",
       "      <td>광산구</td>\n",
       "      <td>88.923139</td>\n",
       "      <td>61475.0</td>\n",
       "      <td>54665.5</td>\n",
       "    </tr>\n",
       "    <tr>\n",
       "      <th>226</th>\n",
       "      <td>부산광역시</td>\n",
       "      <td>강서구</td>\n",
       "      <td>83.804014</td>\n",
       "      <td>27655.0</td>\n",
       "      <td>23176.0</td>\n",
       "    </tr>\n",
       "    <tr>\n",
       "      <th>227</th>\n",
       "      <td>경기도</td>\n",
       "      <td>화성시</td>\n",
       "      <td>71.832991</td>\n",
       "      <td>156626.5</td>\n",
       "      <td>112509.5</td>\n",
       "    </tr>\n",
       "    <tr>\n",
       "      <th>228</th>\n",
       "      <td>울산광역시</td>\n",
       "      <td>북구</td>\n",
       "      <td>71.706507</td>\n",
       "      <td>36416.5</td>\n",
       "      <td>26113.0</td>\n",
       "    </tr>\n",
       "    <tr>\n",
       "      <th>229</th>\n",
       "      <td>세종특별자치시</td>\n",
       "      <td>세종시</td>\n",
       "      <td>71.215254</td>\n",
       "      <td>73264.5</td>\n",
       "      <td>52175.5</td>\n",
       "    </tr>\n",
       "  </tbody>\n",
       "</table>\n",
       "<p>229 rows × 5 columns</p>\n",
       "</div>"
      ],
      "text/plain": [
       "          시도  시군구        노령화지수     유소년인구      노년인구\n",
       "0       경상북도  군위군  1386.372361    1042.0   14446.0\n",
       "1       경상북도  의성군  1172.763205    2783.0   32638.0\n",
       "2       경상남도  합천군  1079.009861    2484.5   26808.0\n",
       "3       경상북도  청도군  1027.290036    2363.5   24280.0\n",
       "4       전라남도  고흥군  1015.754373    3973.5   40361.0\n",
       "..       ...  ...          ...       ...       ...\n",
       "225    광주광역시  광산구    88.923139   61475.0   54665.5\n",
       "226    부산광역시  강서구    83.804014   27655.0   23176.0\n",
       "227      경기도  화성시    71.832991  156626.5  112509.5\n",
       "228    울산광역시   북구    71.706507   36416.5   26113.0\n",
       "229  세종특별자치시  세종시    71.215254   73264.5   52175.5\n",
       "\n",
       "[229 rows x 5 columns]"
      ]
     },
     "execution_count": 53,
     "metadata": {},
     "output_type": "execute_result"
    }
   ],
   "source": [
    "df.drop(index=201, inplace=True)\n",
    "df"
   ]
  },
  {
   "cell_type": "markdown",
   "id": "bb39e5b7",
   "metadata": {},
   "source": [
    "#### 고령화지수 생성 후, 크기별로 내림차순 정렬"
   ]
  },
  {
   "cell_type": "code",
   "execution_count": 55,
   "id": "8c956323",
   "metadata": {},
   "outputs": [
    {
     "data": {
      "text/html": [
       "<div>\n",
       "<style scoped>\n",
       "    .dataframe tbody tr th:only-of-type {\n",
       "        vertical-align: middle;\n",
       "    }\n",
       "\n",
       "    .dataframe tbody tr th {\n",
       "        vertical-align: top;\n",
       "    }\n",
       "\n",
       "    .dataframe thead th {\n",
       "        text-align: right;\n",
       "    }\n",
       "</style>\n",
       "<table border=\"1\" class=\"dataframe\">\n",
       "  <thead>\n",
       "    <tr style=\"text-align: right;\">\n",
       "      <th></th>\n",
       "      <th>시도</th>\n",
       "      <th>시군구</th>\n",
       "      <th>노령화지수</th>\n",
       "      <th>유소년인구</th>\n",
       "      <th>노년인구</th>\n",
       "    </tr>\n",
       "  </thead>\n",
       "  <tbody>\n",
       "    <tr>\n",
       "      <th>50</th>\n",
       "      <td>강원도</td>\n",
       "      <td>평창군</td>\n",
       "      <td>589.521368</td>\n",
       "      <td>2925.0</td>\n",
       "      <td>17243.5</td>\n",
       "    </tr>\n",
       "  </tbody>\n",
       "</table>\n",
       "</div>"
      ],
      "text/plain": [
       "     시도  시군구       노령화지수   유소년인구     노년인구\n",
       "50  강원도  평창군  589.521368  2925.0  17243.5"
      ]
     },
     "execution_count": 55,
     "metadata": {},
     "output_type": "execute_result"
    }
   ],
   "source": [
    "df[df['시군구'] == '평창군']"
   ]
  },
  {
   "cell_type": "code",
   "execution_count": 56,
   "id": "7b15fcaf",
   "metadata": {
    "scrolled": true
   },
   "outputs": [
    {
     "data": {
      "text/html": [
       "<div>\n",
       "<style scoped>\n",
       "    .dataframe tbody tr th:only-of-type {\n",
       "        vertical-align: middle;\n",
       "    }\n",
       "\n",
       "    .dataframe tbody tr th {\n",
       "        vertical-align: top;\n",
       "    }\n",
       "\n",
       "    .dataframe thead th {\n",
       "        text-align: right;\n",
       "    }\n",
       "</style>\n",
       "<table border=\"1\" class=\"dataframe\">\n",
       "  <thead>\n",
       "    <tr style=\"text-align: right;\">\n",
       "      <th></th>\n",
       "      <th>노령화지수</th>\n",
       "      <th>유소년인구</th>\n",
       "      <th>노년인구</th>\n",
       "    </tr>\n",
       "  </thead>\n",
       "  <tbody>\n",
       "    <tr>\n",
       "      <th>count</th>\n",
       "      <td>229.0</td>\n",
       "      <td>229.0</td>\n",
       "      <td>229.0</td>\n",
       "    </tr>\n",
       "    <tr>\n",
       "      <th>mean</th>\n",
       "      <td>379.0</td>\n",
       "      <td>26211.0</td>\n",
       "      <td>52855.0</td>\n",
       "    </tr>\n",
       "    <tr>\n",
       "      <th>std</th>\n",
       "      <td>258.0</td>\n",
       "      <td>29312.0</td>\n",
       "      <td>39408.0</td>\n",
       "    </tr>\n",
       "    <tr>\n",
       "      <th>min</th>\n",
       "      <td>71.0</td>\n",
       "      <td>574.0</td>\n",
       "      <td>3252.0</td>\n",
       "    </tr>\n",
       "    <tr>\n",
       "      <th>25%</th>\n",
       "      <td>180.0</td>\n",
       "      <td>4485.0</td>\n",
       "      <td>23886.0</td>\n",
       "    </tr>\n",
       "    <tr>\n",
       "      <th>50%</th>\n",
       "      <td>283.0</td>\n",
       "      <td>15204.0</td>\n",
       "      <td>42088.0</td>\n",
       "    </tr>\n",
       "    <tr>\n",
       "      <th>75%</th>\n",
       "      <td>536.0</td>\n",
       "      <td>36130.0</td>\n",
       "      <td>73087.0</td>\n",
       "    </tr>\n",
       "    <tr>\n",
       "      <th>max</th>\n",
       "      <td>1386.0</td>\n",
       "      <td>156626.0</td>\n",
       "      <td>217703.0</td>\n",
       "    </tr>\n",
       "  </tbody>\n",
       "</table>\n",
       "</div>"
      ],
      "text/plain": [
       "        노령화지수     유소년인구      노년인구\n",
       "count   229.0     229.0     229.0\n",
       "mean    379.0   26211.0   52855.0\n",
       "std     258.0   29312.0   39408.0\n",
       "min      71.0     574.0    3252.0\n",
       "25%     180.0    4485.0   23886.0\n",
       "50%     283.0   15204.0   42088.0\n",
       "75%     536.0   36130.0   73087.0\n",
       "max    1386.0  156626.0  217703.0"
      ]
     },
     "execution_count": 56,
     "metadata": {},
     "output_type": "execute_result"
    }
   ],
   "source": [
    "round(df.describe())"
   ]
  },
  {
   "cell_type": "markdown",
   "id": "d97552f3",
   "metadata": {},
   "source": [
    "#### 노령화지수 로그변환"
   ]
  },
  {
   "cell_type": "code",
   "execution_count": 60,
   "id": "d34a2d12",
   "metadata": {},
   "outputs": [
    {
     "data": {
      "text/html": [
       "<div>\n",
       "<style scoped>\n",
       "    .dataframe tbody tr th:only-of-type {\n",
       "        vertical-align: middle;\n",
       "    }\n",
       "\n",
       "    .dataframe tbody tr th {\n",
       "        vertical-align: top;\n",
       "    }\n",
       "\n",
       "    .dataframe thead th {\n",
       "        text-align: right;\n",
       "    }\n",
       "</style>\n",
       "<table border=\"1\" class=\"dataframe\">\n",
       "  <thead>\n",
       "    <tr style=\"text-align: right;\">\n",
       "      <th></th>\n",
       "      <th>시도</th>\n",
       "      <th>시군구</th>\n",
       "      <th>노령화지수</th>\n",
       "      <th>유소년인구</th>\n",
       "      <th>노년인구</th>\n",
       "      <th>노령화지수(로그변환)</th>\n",
       "    </tr>\n",
       "  </thead>\n",
       "  <tbody>\n",
       "    <tr>\n",
       "      <th>0</th>\n",
       "      <td>경상북도</td>\n",
       "      <td>군위군</td>\n",
       "      <td>1386.372361</td>\n",
       "      <td>1042.0</td>\n",
       "      <td>14446.0</td>\n",
       "      <td>7.235167</td>\n",
       "    </tr>\n",
       "    <tr>\n",
       "      <th>1</th>\n",
       "      <td>경상북도</td>\n",
       "      <td>의성군</td>\n",
       "      <td>1172.763205</td>\n",
       "      <td>2783.0</td>\n",
       "      <td>32638.0</td>\n",
       "      <td>7.067970</td>\n",
       "    </tr>\n",
       "    <tr>\n",
       "      <th>2</th>\n",
       "      <td>경상남도</td>\n",
       "      <td>합천군</td>\n",
       "      <td>1079.009861</td>\n",
       "      <td>2484.5</td>\n",
       "      <td>26808.0</td>\n",
       "      <td>6.984725</td>\n",
       "    </tr>\n",
       "    <tr>\n",
       "      <th>3</th>\n",
       "      <td>경상북도</td>\n",
       "      <td>청도군</td>\n",
       "      <td>1027.290036</td>\n",
       "      <td>2363.5</td>\n",
       "      <td>24280.0</td>\n",
       "      <td>6.935653</td>\n",
       "    </tr>\n",
       "    <tr>\n",
       "      <th>4</th>\n",
       "      <td>전라남도</td>\n",
       "      <td>고흥군</td>\n",
       "      <td>1015.754373</td>\n",
       "      <td>3973.5</td>\n",
       "      <td>40361.0</td>\n",
       "      <td>6.924371</td>\n",
       "    </tr>\n",
       "  </tbody>\n",
       "</table>\n",
       "</div>"
      ],
      "text/plain": [
       "     시도  시군구        노령화지수   유소년인구     노년인구  노령화지수(로그변환)\n",
       "0  경상북도  군위군  1386.372361  1042.0  14446.0     7.235167\n",
       "1  경상북도  의성군  1172.763205  2783.0  32638.0     7.067970\n",
       "2  경상남도  합천군  1079.009861  2484.5  26808.0     6.984725\n",
       "3  경상북도  청도군  1027.290036  2363.5  24280.0     6.935653\n",
       "4  전라남도  고흥군  1015.754373  3973.5  40361.0     6.924371"
      ]
     },
     "execution_count": 60,
     "metadata": {},
     "output_type": "execute_result"
    }
   ],
   "source": [
    "import numpy as np\n",
    "df['노령화지수(로그변환)'] = np.log1p(df['노령화지수'])\n",
    "df.head()"
   ]
  },
  {
   "cell_type": "code",
   "execution_count": 61,
   "id": "5deb8646",
   "metadata": {},
   "outputs": [],
   "source": [
    "# 파일 저장\n",
    "df.to_csv('노령화지수.csv',encoding='euc-kr')"
   ]
  },
  {
   "cell_type": "markdown",
   "id": "610a276c",
   "metadata": {},
   "source": [
    "#### 평창군은 41위"
   ]
  },
  {
   "cell_type": "markdown",
   "id": "eeb8eaf6",
   "metadata": {},
   "source": [
    "### 시각화"
   ]
  },
  {
   "cell_type": "code",
   "execution_count": 22,
   "id": "f6857b82",
   "metadata": {},
   "outputs": [
    {
     "name": "stderr",
     "output_type": "stream",
     "text": [
      "C:\\Users\\user\\anaconda3\\lib\\site-packages\\scipy\\__init__.py:138: UserWarning: A NumPy version >=1.16.5 and <1.23.0 is required for this version of SciPy (detected version 1.24.1)\n",
      "  warnings.warn(f\"A NumPy version >={np_minversion} and <{np_maxversion} is required for this version of \"\n"
     ]
    }
   ],
   "source": [
    "#한글 깨짐 방지 코드\n",
    "from matplotlib import rc, style, font_manager\n",
    "font_name = font_manager.FontProperties(fname=\"C:/windows/Fonts/malgun.ttf\").get_name()\n",
    "rc('font', family=font_name)\n",
    "style.use('ggplot')\n",
    "\n",
    "import matplotlib.pyplot as plt\n",
    "import seaborn as sns\n",
    "import warnings\n",
    "warnings.filterwarnings('ignore')"
   ]
  },
  {
   "cell_type": "code",
   "execution_count": 23,
   "id": "a82aff79",
   "metadata": {},
   "outputs": [
    {
     "data": {
      "text/plain": [
       "<AxesSubplot:>"
      ]
     },
     "execution_count": 23,
     "metadata": {},
     "output_type": "execute_result"
    },
    {
     "data": {
      "image/png": "[encoded data removed]",
      "text/plain": [
       "<Figure size 432x288 with 1 Axes>"
      ]
     },
     "metadata": {
      "needs_background": "light"
     },
     "output_type": "display_data"
    }
   ],
   "source": [
    "sns.boxplot(data=df['노령화지수'])"
   ]
  },
  {
   "cell_type": "code",
   "execution_count": 26,
   "id": "4caa820f",
   "metadata": {},
   "outputs": [],
   "source": [
    "y = df.iloc[:, 2].values.copy()\n",
    "x = df.iloc[:, 1].values.copy()"
   ]
  },
  {
   "cell_type": "code",
   "execution_count": 29,
   "id": "b19085e8",
   "metadata": {},
   "outputs": [
    {
     "data": {
      "text/plain": [
       "'평창군'"
      ]
     },
     "execution_count": 29,
     "metadata": {},
     "output_type": "execute_result"
    }
   ],
   "source": [
    "x[50]"
   ]
  },
  {
   "cell_type": "code",
   "execution_count": 31,
   "id": "79bc3991",
   "metadata": {
    "scrolled": true
   },
   "outputs": [
    {
     "data": {
      "image/png": "[encoded data removed]",
      "text/plain": [
       "<Figure size 1800x720 with 1 Axes>"
      ]
     },
     "metadata": {
      "needs_background": "light"
     },
     "output_type": "display_data"
    }
   ],
   "source": [
    "fig, ax = plt.subplots(figsize=(25,10))\n",
    "ax.bar(x,y,fc='darkgray')\n",
    "plt.xticks(rotation=-90)\n",
    "plt.ylabel('노령화지수')\n",
    "\n",
    "bars = ax.patches\n",
    "bars[50].set_facecolor(\"yellow\")\n",
    "bars[50].set_edgecolor(\"k\")"
   ]
  },
  {
   "cell_type": "markdown",
   "id": "e6ed3f8d",
   "metadata": {},
   "source": [
    "#### 상위 50개 지역만 추출"
   ]
  },
  {
   "cell_type": "code",
   "execution_count": 232,
   "id": "cf2f4717",
   "metadata": {},
   "outputs": [],
   "source": [
    "df_top50 = df.iloc[:50,:]\n",
    "y = df_top50.iloc[:, 1].values.copy()\n",
    "x = df_top50.iloc[:, 0].values.copy()"
   ]
  },
  {
   "cell_type": "code",
   "execution_count": 236,
   "id": "87019fe6",
   "metadata": {},
   "outputs": [
    {
     "data": {
      "text/plain": [
       "<BarContainer object of 50 artists>"
      ]
     },
     "execution_count": 236,
     "metadata": {},
     "output_type": "execute_result"
    }
   ],
   "source": [
    "ax.bar(x,y,fc='darkgray')"
   ]
  },
  {
   "cell_type": "code",
   "execution_count": 237,
   "id": "ae47446f",
   "metadata": {
    "scrolled": false
   },
   "outputs": [
    {
     "data": {
      "image/png": "[encoded data removed]",
      "text/plain": [
       "<Figure size 1440x720 with 1 Axes>"
      ]
     },
     "metadata": {},
     "output_type": "display_data"
    }
   ],
   "source": [
    "plt.figure(figsize=(20,10))\n",
    "ax.bar(x,y,fc='darkgray')\n",
    "plt.xticks(rotation=-45)\n",
    "plt.ylabel('노령화지수')\n",
    "\n",
    "bars = ax.patches\n",
    "bars[1].set_facecolor(\"yellow\")\n",
    "bars[1].set_edgecolor(\"k\")"
   ]
  },
  {
   "cell_type": "code",
   "execution_count": null,
   "id": "3fb94a02",
   "metadata": {},
   "outputs": [],
   "source": [
    "#### 평창이 속한 곳만 포인트"
   ]
  }
 ],
 "metadata": {
  "kernelspec": {
   "display_name": "Python 3 (ipykernel)",
   "language": "python",
   "name": "python3"
  },
  "language_info": {
   "codemirror_mode": {
    "name": "ipython",
    "version": 3
   },
   "file_extension": ".py",
   "mimetype": "text/x-python",
   "name": "python",
   "nbconvert_exporter": "python",
   "pygments_lexer": "ipython3",
   "version": "3.9.13"
  }
 },
 "nbformat": 4,
 "nbformat_minor": 5
}
