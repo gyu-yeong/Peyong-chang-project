{
 "cells": [
  {
   "cell_type": "markdown",
   "metadata": {
    "id": "on_HPZb_cfOV"
   },
   "source": [
    "#### 1. sheet 1,2,3는 기준년월만 나와있음 -> 22년11월 대관령면과 대화면 엑셀에 똑같은 자료가 있다는말 -> 중복제거 필요\n",
    "#### 2. sheet 4~13는 기준년월, 일자, 시간 등 세분화되어 있음"
   ]
  },
  {
   "cell_type": "markdown",
   "metadata": {
    "id": "Qmqr6jZRfRG5"
   },
   "source": [
    "### def문을 통해 자동화"
   ]
  },
  {
   "cell_type": "code",
   "execution_count": 1,
   "metadata": {
    "colab": {
     "base_uri": "https://localhost:8080/"
    },
    "executionInfo": {
     "elapsed": 12856,
     "status": "ok",
     "timestamp": 1675036900148,
     "user": {
      "displayName": "박규영",
      "userId": "08746986429136112004"
     },
     "user_tz": -540
    },
    "id": "rC2zzgVo-j1x",
    "outputId": "06db9704-438e-4f60-ee5b-b1e91ac9f4fe"
   },
   "outputs": [
    {
     "name": "stdout",
     "output_type": "stream",
     "text": [
      "Drive already mounted at /content/drive; to attempt to forcibly remount, call drive.mount(\"/content/drive\", force_remount=True).\n"
     ]
    }
   ],
   "source": [
    "from google.colab import drive\n",
    "drive.mount('/content/drive')"
   ]
  },
  {
   "cell_type": "code",
   "execution_count": 2,
   "metadata": {
    "executionInfo": {
     "elapsed": 660,
     "status": "ok",
     "timestamp": 1675036905029,
     "user": {
      "displayName": "박규영",
      "userId": "08746986429136112004"
     },
     "user_tz": -540
    },
    "id": "THe7gGSEdk0n"
   },
   "outputs": [],
   "source": [
    "import pandas as pd\n",
    "import numpy as np\n",
    "import os\n",
    "\n",
    "file_format = \".xlsx\" # .csv\n",
    "file_path = \"/content/drive/MyDrive/project_data\"\n",
    "file_list = [f\"{file_path}/{file}\" for file in os.listdir(file_path) if file_format in file]"
   ]
  },
  {
   "cell_type": "code",
   "execution_count": 3,
   "metadata": {
    "executionInfo": {
     "elapsed": 4,
     "status": "ok",
     "timestamp": 1675036906847,
     "user": {
      "displayName": "박규영",
      "userId": "08746986429136112004"
     },
     "user_tz": -540
    },
    "id": "CLNdC0EOdwzv"
   },
   "outputs": [],
   "source": [
    "def sheet_n(file_list,sheet_num):\n",
    "\n",
    "  df_list = pd.DataFrame()\n",
    "  \n",
    "  for i in range(104):\n",
    "    df = pd.read_excel(file_list[i],sheet_name=sheet_num,header=1)\n",
    "    df_list = df_list.append(df)\n",
    "    df_list = df_list.reset_index(drop=True)\n",
    "\n",
    "  return(df_list)"
   ]
  },
  {
   "cell_type": "code",
   "execution_count": 4,
   "metadata": {
    "colab": {
     "base_uri": "https://localhost:8080/"
    },
    "executionInfo": {
     "elapsed": 94484,
     "status": "ok",
     "timestamp": 1675037008043,
     "user": {
      "displayName": "박규영",
      "userId": "08746986429136112004"
     },
     "user_tz": -540
    },
    "id": "R5F-RYAX-toC",
    "outputId": "eef07dac-bfa1-4224-f184-dec4000774ff"
   },
   "outputs": [
    {
     "name": "stderr",
     "output_type": "stream",
     "text": [
      "/usr/local/lib/python3.8/dist-packages/openpyxl/styles/stylesheet.py:226: UserWarning: Workbook contains no default style, apply openpyxl's default\n",
      "  warn(\"Workbook contains no default style, apply openpyxl's default\")\n"
     ]
    }
   ],
   "source": [
    "sheets = []\n",
    "for i in range(3, 14):\n",
    "  sheets.append(sheet_n(file_list, i))"
   ]
  },
  {
   "cell_type": "code",
   "execution_count": 11,
   "metadata": {
    "executionInfo": {
     "elapsed": 48510,
     "status": "ok",
     "timestamp": 1675037175471,
     "user": {
      "displayName": "박규영",
      "userId": "08746986429136112004"
     },
     "user_tz": -540
    },
    "id": "CNHq2Idj_MHA"
   },
   "outputs": [],
   "source": [
    "for i, sheet in enumerate(sheets):\n",
    "  sheet.to_excel(f'/content/drive/MyDrive/project_data/sheet{i+4}.xlsx', index=False)"
   ]
  }
 ],
 "metadata": {
  "colab": {
   "authorship_tag": "ABX9TyMURgv4OoDb7RusGL9mL4qR",
   "mount_file_id": "1t9989dFiV-Ni808N0XYSE3Ln293tMbdY",
   "provenance": []
  },
  "kernelspec": {
   "display_name": "Python 3 (ipykernel)",
   "language": "python",
   "name": "python3"
  },
  "language_info": {
   "codemirror_mode": {
    "name": "ipython",
    "version": 3
   },
   "file_extension": ".py",
   "mimetype": "text/x-python",
   "name": "python",
   "nbconvert_exporter": "python",
   "pygments_lexer": "ipython3",
   "version": "3.9.13"
  }
 },
 "nbformat": 4,
 "nbformat_minor": 1
}
